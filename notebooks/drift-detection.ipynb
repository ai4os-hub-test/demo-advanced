{
 "cells": [
  {
   "cell_type": "markdown",
   "metadata": {},
   "source": [
    "# Drift Detection\n",
    "\n",
    "This example shows how to implement drift detection on MNIST dataset using the [TensorFlow Datasets](https://www.tensorflow.org/datasets) library.\n",
    "You can find details about code bases on the following examples:\n",
    "\n",
    "https://www.tensorflow.org/datasets/keras_example  \n",
    "https://www.tensorflow.org/tutorials/images/data_augmentation"
   ]
  },
  {
   "cell_type": "code",
   "execution_count": 1,
   "metadata": {
    "ExecuteTime": {
     "end_time": "2023-05-31T13:20:42.163594712Z",
     "start_time": "2023-05-31T13:20:40.304239309Z"
    },
    "collapsed": false
   },
   "outputs": [
    {
     "name": "stderr",
     "output_type": "stream",
     "text": [
      "2023-07-27 09:49:29.932097: I tensorflow/tsl/cuda/cudart_stub.cc:28] Could not find cuda drivers on your machine, GPU will not be used.\n",
      "2023-07-27 09:49:29.956454: I tensorflow/tsl/cuda/cudart_stub.cc:28] Could not find cuda drivers on your machine, GPU will not be used.\n",
      "2023-07-27 09:49:29.957018: I tensorflow/core/platform/cpu_feature_guard.cc:182] This TensorFlow binary is optimized to use available CPU instructions in performance-critical operations.\n",
      "To enable the following instructions: AVX2 FMA, in other operations, rebuild TensorFlow with the appropriate compiler flags.\n",
      "2023-07-27 09:49:30.473334: W tensorflow/compiler/tf2tensorrt/utils/py_utils.cc:38] TF-TRT Warning: Could not find TensorRT\n"
     ]
    }
   ],
   "source": [
    "import matplotlib.pyplot as plt\n",
    "import tensorflow as tf\n",
    "import tensorflow_datasets as tfds\n",
    "from tensorflow.keras import layers\n",
    "from tensorflow.keras.models import Model\n",
    "from functools import partial\n",
    "\n",
    "from frouros.detectors.data_drift import MMD\n",
    "from frouros.utils.kernels import rbf_kernel\n",
    "from frouros.callbacks import PermutationTestDistanceBased\n",
    "import numpy as np"
   ]
  },
  {
   "cell_type": "markdown",
   "metadata": {
    "collapsed": false
   },
   "source": [
    "## MNIST input pipeline\n",
    "In order to simplify the input pipeline, we use the `tfds.load` function to download the MNIST dataset and load it directly into a `tf.data.Dataset` object. We also use the `as_supervised` argument to get the dataset in the (image, label) tuple format.\n"
   ]
  },
  {
   "cell_type": "code",
   "execution_count": 2,
   "metadata": {
    "ExecuteTime": {
     "end_time": "2023-05-31T13:20:42.278098262Z",
     "start_time": "2023-05-31T13:20:42.179256688Z"
    },
    "collapsed": false
   },
   "outputs": [
    {
     "name": "stderr",
     "output_type": "stream",
     "text": [
      "INFO:absl:Load dataset info from /home/borja/tensorflow_datasets/mnist/3.0.1\n",
      "INFO:absl:Fields info.[citation, splits, supervised_keys, module_name] from disk and from code do not match. Keeping the one from code.\n",
      "INFO:absl:Reusing dataset mnist (/home/borja/tensorflow_datasets/mnist/3.0.1)\n",
      "2023-07-27 09:49:31.774442: I tensorflow/compiler/xla/stream_executor/cuda/cuda_gpu_executor.cc:981] could not open file to read NUMA node: /sys/bus/pci/devices/0000:01:00.0/numa_node\n",
      "Your kernel may have been built without NUMA support.\n",
      "2023-07-27 09:49:31.774708: W tensorflow/core/common_runtime/gpu/gpu_device.cc:1960] Cannot dlopen some GPU libraries. Please make sure the missing libraries mentioned above are installed properly if you would like to use GPU. Follow the guide at https://www.tensorflow.org/install/gpu for how to download and setup the required libraries for your platform.\n",
      "Skipping registering GPU devices...\n",
      "INFO:absl:Constructing tf.data.Dataset mnist for split ['train', 'test'], from /home/borja/tensorflow_datasets/mnist/3.0.1\n"
     ]
    }
   ],
   "source": [
    "# Load the MNIST dataset\n",
    "(ds_train, ds_test), metadata = tfds.load(\n",
    "    \"mnist\",\n",
    "    split=[\"train\", \"test\"],\n",
    "    shuffle_files=True,\n",
    "    as_supervised=True,\n",
    "    with_info=True,\n",
    ")"
   ]
  },
  {
   "cell_type": "markdown",
   "metadata": {},
   "source": [
    "After downloading the dataset, we define the normalization function to be applied to each image. We also define the batch size and the number of epochs to train the model."
   ]
  },
  {
   "cell_type": "code",
   "execution_count": 3,
   "metadata": {},
   "outputs": [],
   "source": [
    "def normalize_img(image, label):\n",
    "    \"\"\"Normalizes images: `uint8` -> `float32`.\"\"\"\n",
    "    return tf.cast(image, tf.float32) / 255.0\n",
    "\n",
    "\n",
    "ds_train = ds_train.map(normalize_img, num_parallel_calls=tf.data.AUTOTUNE)\n",
    "ds_train = ds_train.cache()\n",
    "ds_train = ds_train.shuffle(metadata.splits[\"train\"].num_examples)\n",
    "ds_train = ds_train.batch(32)\n",
    "ds_train = ds_train.prefetch(tf.data.AUTOTUNE)"
   ]
  },
  {
   "cell_type": "code",
   "execution_count": 4,
   "metadata": {},
   "outputs": [],
   "source": [
    "ds_test = ds_test.map(normalize_img, num_parallel_calls=tf.data.AUTOTUNE)\n",
    "ds_test = ds_test.batch(32)\n",
    "ds_test = ds_test.cache()\n",
    "ds_test = ds_test.prefetch(tf.data.AUTOTUNE)"
   ]
  },
  {
   "cell_type": "markdown",
   "metadata": {},
   "source": [
    "## Create image encoder\n",
    "\n",
    "We create a simple image encoder using the `tf.keras.Sequential` API. The encoder consists of a series of convolutional layers followed by a dense layer. The convolutional layers are used to extract features from the input image. The dense layer is used to reduce the dimensionality of the extracted features.\n"
   ]
  },
  {
   "cell_type": "code",
   "execution_count": 5,
   "metadata": {},
   "outputs": [],
   "source": [
    "class Autoencoder(Model):\n",
    "    def __init__(self, latent_dim):\n",
    "        super(Autoencoder, self).__init__()\n",
    "        self.latent_dim = latent_dim\n",
    "        self.encoder = tf.keras.Sequential([\n",
    "            layers.Flatten(input_shape=(28, 28)),\n",
    "            layers.Dense(latent_dim, activation=\"relu\"),\n",
    "        ])\n",
    "        self.decoder = tf.keras.Sequential([\n",
    "            layers.Dense(784, activation=\"sigmoid\"),\n",
    "            layers.Reshape((28, 28, 1)),\n",
    "        ])\n",
    "\n",
    "    def call(self, x):\n",
    "        encoded = self.encoder(x)\n",
    "        decoded = self.decoder(encoded)\n",
    "        return decoded\n",
    "\n",
    "\n",
    "autoencoder = Autoencoder(latent_dim=64)"
   ]
  },
  {
   "cell_type": "code",
   "execution_count": 6,
   "metadata": {},
   "outputs": [],
   "source": [
    "autoencoder.compile(optimizer=\"adam\", loss=tf.keras.losses.MeanAbsoluteError())"
   ]
  },
  {
   "cell_type": "markdown",
   "metadata": {},
   "source": [
    "We train the encoder using the `tf.GradientTape` API. We use the `tf.keras.losses.MeanSquaredError` API to compute the loss between the original image and the reconstructed image. We use the `tf.keras.optimizers.Adam` API to optimize the loss function."
   ]
  },
  {
   "cell_type": "code",
   "execution_count": 7,
   "metadata": {},
   "outputs": [
    {
     "name": "stdout",
     "output_type": "stream",
     "text": [
      "Epoch 1/3\n"
     ]
    },
    {
     "name": "stdout",
     "output_type": "stream",
     "text": [
      "1875/1875 [==============================] - 6s 2ms/step - loss: 0.0906 - val_loss: 0.0701\n",
      "Epoch 2/3\n",
      "1875/1875 [==============================] - 4s 2ms/step - loss: 0.0642 - val_loss: 0.0605\n",
      "Epoch 3/3\n",
      "1875/1875 [==============================] - 4s 2ms/step - loss: 0.0598 - val_loss: 0.0591\n"
     ]
    },
    {
     "data": {
      "text/plain": [
       "<keras.src.callbacks.History at 0x7fcb005c6b00>"
      ]
     },
     "execution_count": 7,
     "metadata": {},
     "output_type": "execute_result"
    }
   ],
   "source": [
    "_train = ds_train.map(lambda x: (x, x))\n",
    "_test = ds_test.map(lambda x: (x, x))\n",
    "autoencoder.fit(_train, epochs=3, validation_data=_test)"
   ]
  },
  {
   "cell_type": "markdown",
   "metadata": {},
   "source": [
    "## Data augmentation\n",
    "\n",
    "To simulate the drift in the data, we apply random transformations to the images in the dataset. We use rotation to apply transformations to the images:\n"
   ]
  },
  {
   "cell_type": "code",
   "execution_count": 8,
   "metadata": {
    "ExecuteTime": {
     "end_time": "2023-05-31T13:21:25.931628924Z",
     "start_time": "2023-05-31T13:21:25.902714540Z"
    },
    "collapsed": false
   },
   "outputs": [],
   "source": [
    "data_augmentation = tf.keras.Sequential([layers.RandomRotation(0.2)])\n",
    "ds_augmented = ds_train.map(lambda x: data_augmentation(x))"
   ]
  },
  {
   "cell_type": "code",
   "execution_count": 9,
   "metadata": {},
   "outputs": [
    {
     "data": {
      "image/png": "[encoded data removed]",
      "text/plain": [
       "<Figure size 640x480 with 6 Axes>"
      ]
     },
     "metadata": {},
     "output_type": "display_data"
    }
   ],
   "source": [
    "images = next(iter(ds_train)).numpy()\n",
    "augmented = data_augmentation(images)\n",
    "fig, ax = plt.subplots(nrows=2, ncols=3)\n",
    "\n",
    "for i in range(ax.shape[1]):\n",
    "    ax[0, i].imshow(images[i])\n",
    "    ax[1, i].imshow(augmented[i])"
   ]
  },
  {
   "cell_type": "markdown",
   "metadata": {},
   "source": [
    "## Data encoding\n",
    "\n",
    "Before training the detector, we encode the images in the dataset using the encoder. We use the `tf.data.Dataset.map` API to apply the encoder to each image in the dataset."
   ]
  },
  {
   "cell_type": "code",
   "execution_count": 10,
   "metadata": {},
   "outputs": [],
   "source": [
    "encoded_train = ds_train.map(lambda x: autoencoder.encoder(x))\n",
    "encoded_train = encoded_train.unbatch()\n",
    "encoded_augmented = ds_augmented.map(lambda x: autoencoder.encoder(x))\n",
    "encoded_augmented = encoded_augmented.unbatch()"
   ]
  },
  {
   "cell_type": "markdown",
   "metadata": {},
   "source": [
    "## Data drift detection\n",
    "\n",
    "Now the data have been encoded, we can train the detector and formulate our hypothesis."
   ]
  },
  {
   "cell_type": "markdown",
   "metadata": {
    "collapsed": false
   },
   "source": [
    "A significance level of $\\alpha = 0.05$ is set to perform the hypothesis test.\n"
   ]
  },
  {
   "cell_type": "code",
   "execution_count": 11,
   "metadata": {
    "ExecuteTime": {
     "end_time": "2023-05-31T13:21:53.946290734Z",
     "start_time": "2023-05-31T13:21:53.943696763Z"
    },
    "collapsed": false
   },
   "outputs": [],
   "source": [
    "alpha = 0.05"
   ]
  },
  {
   "cell_type": "code",
   "execution_count": 12,
   "metadata": {},
   "outputs": [],
   "source": [
    "num_samples = 1000\n",
    "samples_train = encoded_train.take(num_samples).as_numpy_iterator()\n",
    "samples_augmented = encoded_augmented.take(num_samples).as_numpy_iterator()"
   ]
  },
  {
   "cell_type": "markdown",
   "metadata": {
    "collapsed": false
   },
   "source": [
    "Maximum Mean Discrepancy (MMD) {cite:p}`JMLR:v13:gretton12a` imported from Frouros is used with a Radial Basis Function kernel (RBF), set by default in MMD. In addition to calculating the corresponding MMD statistic, p-value is estimated using permutation test.\n"
   ]
  },
  {
   "cell_type": "code",
   "execution_count": 13,
   "metadata": {
    "ExecuteTime": {
     "end_time": "2023-05-31T13:21:53.958768638Z",
     "start_time": "2023-05-31T13:21:53.949095081Z"
    },
    "collapsed": false
   },
   "outputs": [
    {
     "name": "stderr",
     "output_type": "stream",
     "text": [
      "/home/borja/miniconda3/envs/DEEPaaS/lib/python3.10/site-packages/IPython/core/interactiveshell.py:3448: FutureWarning: arrays to stack must be passed as a \"sequence\" type such as list or tuple. Support for non-sequence iterables such as generators is deprecated as of NumPy 1.16 and will raise an error in the future.\n",
      "  if await self.run_code(code, result, async_=asy):\n"
     ]
    }
   ],
   "source": [
    "detector = MMD(\n",
    "    kernel=partial(rbf_kernel, sigma=0.5),\n",
    "    callbacks=[\n",
    "        PermutationTestDistanceBased(\n",
    "            num_permutations=100,\n",
    "            num_jobs=-1,\n",
    "            random_state=31,\n",
    "            verbose=True,\n",
    "            name=\"permutation_test\",\n",
    "        )\n",
    "    ]\n",
    ")\n",
    "_ = detector.fit(X=np.stack(samples_train))"
   ]
  },
  {
   "cell_type": "markdown",
   "metadata": {
    "collapsed": false
   },
   "source": [
    "Perform the hypothesis test using the fitted detector and the augmented images."
   ]
  },
  {
   "cell_type": "code",
   "execution_count": 14,
   "metadata": {},
   "outputs": [
    {
     "name": "stderr",
     "output_type": "stream",
     "text": [
      "100%|██████████| 100/100 [00:02<00:00, 48.50it/s]\n"
     ]
    },
    {
     "name": "stdout",
     "output_type": "stream",
     "text": [
      "MMD statistic=0.0, p-value=0.0\n",
      "Drift detected. We can reject H0, so both samples come from different distributions.\n"
     ]
    }
   ],
   "source": [
    "result, callbacks_log = detector.compare(X=np.stack(samples_augmented))\n",
    "p_value = callbacks_log[\"permutation_test\"][\"p_value\"]\n",
    "print(f\"MMD statistic={round(result.distance, 3)}, p-value={round(p_value, 3)}\")\n",
    "if p_value <= alpha:\n",
    "    print(\"Drift detected. We can reject H0, so both samples come from different distributions.\")\n",
    "else:\n",
    "    print(\"No drift detected. We fail to reject H0, so both samples come from the same distribution.\")"
   ]
  }
 ],
 "metadata": {
  "kernelspec": {
   "display_name": "Python 3",
   "language": "python",
   "name": "python3"
  },
  "language_info": {
   "codemirror_mode": {
    "name": "ipython",
    "version": 3
   },
   "file_extension": ".py",
   "mimetype": "text/x-python",
   "name": "python",
   "nbconvert_exporter": "python",
   "pygments_lexer": "ipython3",
   "version": "3.10.11"
  }
 },
 "nbformat": 4,
 "nbformat_minor": 0
}
